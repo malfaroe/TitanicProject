{
 "cells": [
  {
   "cell_type": "code",
   "execution_count": 27,
   "metadata": {},
   "outputs": [],
   "source": [
    "##Import libraries \n",
    "\n",
    "import pandas as pd\n",
    "import numpy as np\n",
    "import matplotlib.pyplot as plt\n",
    "import seaborn as sns\n",
    "import warnings\n",
    "warnings.filterwarnings(\"ignore\")\n",
    "from datetime import datetime, timedelta\n",
    "\n",
    "# import all libraries and dependencies for data visualization\n",
    "pd.options.display.float_format='{:.4f}'.format\n",
    "plt.rcParams['figure.figsize'] = [8,8]\n",
    "pd.set_option('display.max_columns', 350)\n",
    "pd.set_option('display.max_colwidth', -1) \n",
    "pd.set_option(\"display.max_rows\", 500)\n",
    "sns.set(style='darkgrid')\n",
    "import matplotlib.ticker as ticker\n",
    "import matplotlib.ticker as plticker\n",
    "\n",
    "\n",
    "# import all libraries and dependencies for machine learning\n",
    "from sklearn.model_selection import train_test_split\n",
    "from sklearn import preprocessing\n",
    "from sklearn.base import TransformerMixin\n",
    "from sklearn.model_selection import train_test_split\n",
    "from sklearn.preprocessing import MinMaxScaler\n",
    "from sklearn.preprocessing import OrdinalEncoder\n",
    "from sklearn.preprocessing import LabelEncoder\n",
    "from sklearn.preprocessing import OneHotEncoder\n",
    "from sklearn.preprocessing import RobustScaler \n",
    "from sklearn.preprocessing import StandardScaler\n",
    "\n",
    "\n",
    "from sklearn.compose import make_column_transformer\n",
    "\n",
    "\n",
    "import statsmodels.api as sm\n",
    "from sklearn.feature_selection import RFE\n",
    "from sklearn.linear_model import LinearRegression\n",
    "from sklearn.linear_model import LinearRegression, OrthogonalMatchingPursuit, Lasso, LassoLarsIC, ElasticNet, ElasticNetCV\n",
    "from statsmodels.stats.outliers_influence import variance_inflation_factor\n",
    "from sklearn.metrics import mean_squared_error, r2_score\n",
    "from sklearn.preprocessing import PolynomialFeatures\n",
    "from sklearn.feature_selection import f_regression, mutual_info_regression, SelectKBest, RFECV, SelectFromModel\n",
    "from sklearn.model_selection import train_test_split\n",
    "\n",
    "from scipy import stats\n",
    "from scipy.stats import norm, kurtosis, skew\n",
    "\n",
    "# Import specific libraries\n",
    "import statsmodels.api as sm\n",
    "from statsmodels.stats import diagnostic as diag\n",
    "from statsmodels.stats.outliers_influence import variance_inflation_factor\n",
    "\n",
    "import statsmodels.api as sm\n",
    "from statsmodels.stats.outliers_influence import variance_inflation_factor\n",
    "from sklearn.pipeline import Pipeline, make_pipeline\n",
    "from sklearn.preprocessing import RobustScaler, PolynomialFeatures, StandardScaler, LabelEncoder\n",
    "from sklearn.feature_selection import f_regression, mutual_info_regression, SelectKBest, RFECV, SelectFromModel\n",
    "from mlxtend.feature_selection import SequentialFeatureSelector as SFS\n",
    "from mlxtend.plotting import plot_sequential_feature_selection as plot_sfs\n",
    "from sklearn.feature_extraction import FeatureHasher\n",
    "from sklearn.decomposition import PCA, KernelPCA\n",
    "from sklearn.base import BaseEstimator, TransformerMixin, RegressorMixin, clone\n",
    "from sklearn.kernel_ridge import KernelRidge\n",
    "from sklearn.linear_model import LinearRegression, OrthogonalMatchingPursuit, Lasso, LassoLarsIC, ElasticNet, ElasticNetCV\n",
    "from sklearn.linear_model import SGDRegressor, PassiveAggressiveRegressor, HuberRegressor, BayesianRidge\n",
    "from sklearn.ensemble import GradientBoostingRegressor, RandomForestRegressor, BaggingRegressor, ExtraTreesRegressor\n",
    "import mlxtend\n",
    "from sklearn.ensemble import RandomForestRegressor, GradientBoostingRegressor, AdaBoostRegressor, BaggingRegressor\n",
    "from sklearn.kernel_ridge import KernelRidge\n",
    "import xgboost as xgb\n",
    "from xgboost import XGBRegressor, plot_importance\n",
    "import lightgbm as lgb\n",
    "# Models\n",
    "import mlxtend\n",
    "from sklearn.ensemble import RandomForestRegressor, GradientBoostingRegressor, AdaBoostRegressor, BaggingRegressor\n",
    "from sklearn.kernel_ridge import KernelRidge\n",
    "from sklearn.linear_model import Ridge, RidgeCV\n",
    "from sklearn.linear_model import ElasticNet, ElasticNetCV\n",
    "from sklearn.svm import SVR\n",
    "from mlxtend.regressor import StackingCVRegressor\n",
    "import lightgbm as lgb\n",
    "from lightgbm import LGBMRegressor\n",
    "from xgboost import XGBRegressor\n",
    "\n",
    "from patsy import dmatrices\n",
    "\n",
    "from sklearn.model_selection import GridSearchCV, cross_val_score, KFold, cross_val_predict, train_test_split\n",
    "from sklearn.metrics import mean_absolute_error, mean_squared_error, r2_score\n",
    "\n",
    "# Stats\n",
    "from scipy.stats import skew, norm\n",
    "from scipy.special import boxcox1p\n",
    "from scipy.stats import boxcox_normmax\n",
    "\n",
    "from scipy import stats\n",
    "from scipy.stats import skew, norm, probplot, boxcox\n",
    "from scipy.special import boxcox1p\n",
    "from patsy import dmatrices\n",
    "\n",
    "pd.set_option('expand_frame_repr', False)\n",
    "\n",
    "#For baseline estimations\n",
    "from sklearn.tree import DecisionTreeClassifier\n",
    "import sklearn.metrics as metrics\n",
    "\n",
    "from sklearn.metrics import accuracy_score\n",
    "\n",
    "\n",
    "#My own libraries :)\n",
    "\n",
    "from house_utils import data_summary, features_profile, plot_feats\n",
    "\n",
    "%matplotlib inline\n",
    "\n",
    "from collections import Counter\n",
    "\n",
    "from sklearn.ensemble import RandomForestClassifier, AdaBoostClassifier, GradientBoostingClassifier, ExtraTreesClassifier, VotingClassifier\n",
    "from sklearn.discriminant_analysis import LinearDiscriminantAnalysis\n",
    "from sklearn.linear_model import LogisticRegression\n",
    "from sklearn.neighbors import KNeighborsClassifier\n",
    "from sklearn.tree import DecisionTreeClassifier\n",
    "from sklearn.neural_network import MLPClassifier\n",
    "from sklearn.svm import SVC\n",
    "from sklearn.model_selection import GridSearchCV, cross_val_score, StratifiedKFold, learning_curve\n",
    "\n",
    "sns.set(style='white', context='notebook', palette='deep')"
   ]
  },
  {
   "cell_type": "code",
   "execution_count": 2,
   "metadata": {},
   "outputs": [],
   "source": [
    "%store -r train\n",
    "%store -r test"
   ]
  },
  {
   "cell_type": "code",
   "execution_count": 3,
   "metadata": {},
   "outputs": [],
   "source": [
    "##PODAR DATASETS DE ACUERDO A FEATURE IMPORTANCE LOOP\n",
    "del_cols = [\"port_sex\", \"Embarked\", \"Parch\"]\n",
    "\n",
    "\n",
    "train.drop(del_cols, axis = 1, inplace = True)\n",
    "test.drop(del_cols, axis = 1, inplace = True)\n"
   ]
  },
  {
   "cell_type": "code",
   "execution_count": 4,
   "metadata": {},
   "outputs": [
    {
     "data": {
      "text/plain": [
       "(891, 8)"
      ]
     },
     "execution_count": 4,
     "metadata": {},
     "output_type": "execute_result"
    }
   ],
   "source": [
    "train.shape"
   ]
  },
  {
   "cell_type": "code",
   "execution_count": 5,
   "metadata": {},
   "outputs": [],
   "source": [
    "#Splitting data\n",
    "\n",
    "##USAMOS TODO EL TRAIN PARA ENTRENAR LOS ALGORITMOS\n",
    "y_train = train.pop(\"Survived\")\n",
    "X_train = train\n",
    "\n",
    "# X_train,  X_val, y_train, y_val = train_test_split(X, y, test_size = 0.2, random_state = 1)"
   ]
  },
  {
   "cell_type": "code",
   "execution_count": 6,
   "metadata": {},
   "outputs": [
    {
     "data": {
      "text/plain": [
       "'SVC\\nDecision Tree\\nAdaBoost\\nRandom Forest\\nExtra Trees\\nGradient Boosting\\nMultiple layer perceprton (neural network)\\nKNN\\nLogistic regression\\nLinear Discriminant Analysis'"
      ]
     },
     "execution_count": 6,
     "metadata": {},
     "output_type": "execute_result"
    }
   ],
   "source": [
    "#1. Simple modeling: we compare 10 popular classifiers and evaluate their mean accuracy (using KFold stratified cross val)\n",
    "\n",
    "\"\"\"SVC\n",
    "Decision Tree\n",
    "AdaBoost\n",
    "Random Forest\n",
    "Extra Trees\n",
    "Gradient Boosting\n",
    "Multiple layer perceprton (neural network)\n",
    "KNN\n",
    "Logistic regression\n",
    "Linear Discriminant Analysis\"\"\""
   ]
  },
  {
   "cell_type": "code",
   "execution_count": 7,
   "metadata": {},
   "outputs": [],
   "source": [
    "#Crossvalidate the models with KFold\n",
    "kfold = StratifiedKFold(n_splits= 10)"
   ]
  },
  {
   "cell_type": "code",
   "execution_count": 8,
   "metadata": {},
   "outputs": [],
   "source": [
    "#2. We train and calculate the mean accuracy of each algorithm\n",
    "\n",
    "#Creamos una lista con todos los clasificadores\n",
    "random_state = 2\n",
    "classifiers = []\n",
    "\n",
    "classifiers.append(SVC(random_state= random_state))\n",
    "classifiers.append(DecisionTreeClassifier(random_state= random_state))\n",
    "classifiers. append(AdaBoostClassifier(DecisionTreeClassifier(random_state= random_state), random_state= random_state\n",
    "                                      , learning_rate= 0.1))\n",
    "classifiers.append(RandomForestClassifier(random_state= random_state))\n",
    "classifiers.append(ExtraTreesClassifier(random_state= random_state))\n",
    "classifiers.append(GradientBoostingClassifier(random_state= random_state))\n",
    "classifiers.append(MLPClassifier(random_state= random_state))\n",
    "classifiers.append(KNeighborsClassifier())\n",
    "classifiers.append(LogisticRegression(random_state= random_state))\n",
    "classifiers.append(LinearDiscriminantAnalysis())\n",
    "\n",
    "cv_results = []\n",
    "\n",
    "#Calculamos los crossvals\n",
    "for classifier in classifiers:\n",
    "    cv_results.append(cross_val_score(classifier, X_train, y = y_train, scoring = \"accuracy\",\n",
    "                     cv = kfold, n_jobs = 4))\n",
    "    \n",
    "#Calculamos los means de cada resultados\n",
    "\n",
    "cv_means = []\n",
    "cv_std = []\n",
    "\n",
    "for cv_result in cv_results:\n",
    "    cv_means.append(cv_result.mean())\n",
    "    cv_std.append(cv_result.std())\n",
    "\n",
    "\n",
    "#Creamos un dataframe con los resultados\n",
    "\n",
    "cv_res = pd.DataFrame({\"CrossValMeans\": cv_means, \"CrossValErrors (std)\": cv_std, \n",
    "                      \"Algorithm\": [\"SVC\",\"DecisionTree\",\"AdaBoost\",\n",
    "\"RandomForest\",\"ExtraTrees\",\"GradientBoosting\",\"MultipleLayerPerceptron\",\"KNeighboors\",\n",
    "                                    \"LogisticRegression\",\"LinearDiscriminantAnalysis\"]})\n",
    "\n",
    "\n"
   ]
  },
  {
   "cell_type": "code",
   "execution_count": 9,
   "metadata": {},
   "outputs": [
    {
     "data": {
      "text/html": [
       "<div>\n",
       "<style scoped>\n",
       "    .dataframe tbody tr th:only-of-type {\n",
       "        vertical-align: middle;\n",
       "    }\n",
       "\n",
       "    .dataframe tbody tr th {\n",
       "        vertical-align: top;\n",
       "    }\n",
       "\n",
       "    .dataframe thead th {\n",
       "        text-align: right;\n",
       "    }\n",
       "</style>\n",
       "<table border=\"1\" class=\"dataframe\">\n",
       "  <thead>\n",
       "    <tr style=\"text-align: right;\">\n",
       "      <th></th>\n",
       "      <th>CrossValMeans</th>\n",
       "      <th>CrossValErrors (std)</th>\n",
       "      <th>Algorithm</th>\n",
       "    </tr>\n",
       "  </thead>\n",
       "  <tbody>\n",
       "    <tr>\n",
       "      <th>5</th>\n",
       "      <td>0.8350</td>\n",
       "      <td>0.0376</td>\n",
       "      <td>GradientBoosting</td>\n",
       "    </tr>\n",
       "    <tr>\n",
       "      <th>4</th>\n",
       "      <td>0.8239</td>\n",
       "      <td>0.0580</td>\n",
       "      <td>ExtraTrees</td>\n",
       "    </tr>\n",
       "    <tr>\n",
       "      <th>3</th>\n",
       "      <td>0.8182</td>\n",
       "      <td>0.0484</td>\n",
       "      <td>RandomForest</td>\n",
       "    </tr>\n",
       "    <tr>\n",
       "      <th>2</th>\n",
       "      <td>0.8115</td>\n",
       "      <td>0.0444</td>\n",
       "      <td>AdaBoost</td>\n",
       "    </tr>\n",
       "    <tr>\n",
       "      <th>8</th>\n",
       "      <td>0.8013</td>\n",
       "      <td>0.0339</td>\n",
       "      <td>LogisticRegression</td>\n",
       "    </tr>\n",
       "    <tr>\n",
       "      <th>9</th>\n",
       "      <td>0.7980</td>\n",
       "      <td>0.0220</td>\n",
       "      <td>LinearDiscriminantAnalysis</td>\n",
       "    </tr>\n",
       "    <tr>\n",
       "      <th>1</th>\n",
       "      <td>0.7913</td>\n",
       "      <td>0.0448</td>\n",
       "      <td>DecisionTree</td>\n",
       "    </tr>\n",
       "    <tr>\n",
       "      <th>6</th>\n",
       "      <td>0.7699</td>\n",
       "      <td>0.0486</td>\n",
       "      <td>MultipleLayerPerceptron</td>\n",
       "    </tr>\n",
       "    <tr>\n",
       "      <th>7</th>\n",
       "      <td>0.7150</td>\n",
       "      <td>0.0214</td>\n",
       "      <td>KNeighboors</td>\n",
       "    </tr>\n",
       "    <tr>\n",
       "      <th>0</th>\n",
       "      <td>0.6802</td>\n",
       "      <td>0.0464</td>\n",
       "      <td>SVC</td>\n",
       "    </tr>\n",
       "  </tbody>\n",
       "</table>\n",
       "</div>"
      ],
      "text/plain": [
       "   CrossValMeans  CrossValErrors (std)                   Algorithm\n",
       "5 0.8350         0.0376                 GradientBoosting          \n",
       "4 0.8239         0.0580                 ExtraTrees                \n",
       "3 0.8182         0.0484                 RandomForest              \n",
       "2 0.8115         0.0444                 AdaBoost                  \n",
       "8 0.8013         0.0339                 LogisticRegression        \n",
       "9 0.7980         0.0220                 LinearDiscriminantAnalysis\n",
       "1 0.7913         0.0448                 DecisionTree              \n",
       "6 0.7699         0.0486                 MultipleLayerPerceptron   \n",
       "7 0.7150         0.0214                 KNeighboors               \n",
       "0 0.6802         0.0464                 SVC                       "
      ]
     },
     "execution_count": 9,
     "metadata": {},
     "output_type": "execute_result"
    }
   ],
   "source": [
    "#Checking performance of algoritms...\n",
    "cv_res.sort_values(by = \"CrossValMeans\", ascending = False)"
   ]
  },
  {
   "cell_type": "code",
   "execution_count": 10,
   "metadata": {},
   "outputs": [
    {
     "data": {
      "image/png": "[encoded data removed]",
      "text/plain": [
       "<Figure size 432x288 with 1 Axes>"
      ]
     },
     "metadata": {},
     "output_type": "display_data"
    }
   ],
   "source": [
    "#We can also plot the results...\n",
    "g = sns.barplot(\"CrossValMeans\",\"Algorithm\",data = cv_res, palette=\"Set3\",orient = \"h\",**{'xerr':cv_std})\n",
    "g.set_xlabel(\"Mean Accuracy\")\n",
    "g = g.set_title(\"Cross validation scores\")"
   ]
  },
  {
   "cell_type": "code",
   "execution_count": null,
   "metadata": {},
   "outputs": [],
   "source": [
    "#We choose the 5 best performing algorithms for ensambling and we will see..."
   ]
  },
  {
   "cell_type": "code",
   "execution_count": 11,
   "metadata": {},
   "outputs": [
    {
     "name": "stdout",
     "output_type": "stream",
     "text": [
      "Fitting 10 folds for each of 54 candidates, totalling 540 fits\n"
     ]
    },
    {
     "name": "stderr",
     "output_type": "stream",
     "text": [
      "[Parallel(n_jobs=1)]: Using backend SequentialBackend with 1 concurrent workers.\n",
      "[Parallel(n_jobs=1)]: Done 540 out of 540 | elapsed:  1.6min finished\n"
     ]
    },
    {
     "data": {
      "text/plain": [
       "0.839538077403246"
      ]
     },
     "execution_count": 11,
     "metadata": {},
     "output_type": "execute_result"
    }
   ],
   "source": [
    "#3. Hyperparameter  tuning for getting the best models\n",
    "\n",
    "#RANDOM FOREST\n",
    "RFC = RandomForestClassifier()\n",
    "\n",
    "#Search grid for optimal parameters\n",
    "rf_param_grid = {\"max_depth\": [None], \"max_features\": [1,3,10],\n",
    "                \"min_samples_split\": [2,3,10],\n",
    "                \"min_samples_leaf\": [1,3,10],\n",
    "                \"bootstrap\": [False],\n",
    "                \"n_estimators\": [100,300],\n",
    "                \"criterion\": [\"gini\"]}\n",
    "\n",
    "gsRFC = GridSearchCV(RFC, param_grid = rf_param_grid, cv = kfold, scoring = \"accuracy\",\n",
    "                    n_jobs = 1, verbose = 1)\n",
    "\n",
    "gsRFC.fit(X_train, y_train)\n",
    "    \n",
    "RFC_best = gsRFC.best_estimator_\n",
    "\n",
    "#Best score\n",
    "gsRFC.best_score_\n",
    "\n"
   ]
  },
  {
   "cell_type": "code",
   "execution_count": 13,
   "metadata": {},
   "outputs": [
    {
     "data": {
      "text/plain": [
       "RandomForestClassifier(bootstrap=False, max_features=3, min_samples_leaf=3,\n",
       "                       min_samples_split=3)"
      ]
     },
     "execution_count": 13,
     "metadata": {},
     "output_type": "execute_result"
    }
   ],
   "source": [
    "RFC_best"
   ]
  },
  {
   "cell_type": "code",
   "execution_count": 12,
   "metadata": {},
   "outputs": [
    {
     "name": "stdout",
     "output_type": "stream",
     "text": [
      "Fitting 10 folds for each of 54 candidates, totalling 540 fits\n"
     ]
    },
    {
     "name": "stderr",
     "output_type": "stream",
     "text": [
      "[Parallel(n_jobs=1)]: Using backend SequentialBackend with 1 concurrent workers.\n",
      "[Parallel(n_jobs=1)]: Done 540 out of 540 | elapsed:  1.3min finished\n"
     ]
    },
    {
     "data": {
      "text/plain": [
       "0.8406491885143572"
      ]
     },
     "execution_count": 12,
     "metadata": {},
     "output_type": "execute_result"
    }
   ],
   "source": [
    "#EXTRA TREES\n",
    "ExtC = ExtraTreesClassifier()\n",
    "\n",
    "#Search grid for optimal parameters\n",
    "rf_param_grid = {\"max_depth\": [None], \"max_features\": [1,3,10],\n",
    "                \"min_samples_split\": [2,3,10],\n",
    "                \"min_samples_leaf\": [1,3,10],\n",
    "                \"bootstrap\": [False],\n",
    "                \"n_estimators\": [100,300],\n",
    "                \"criterion\": [\"gini\"]}\n",
    "\n",
    "gsExtC = GridSearchCV(ExtC, param_grid = rf_param_grid, cv = kfold, scoring = \"accuracy\",\n",
    "                    n_jobs = 1, verbose = 1)\n",
    "\n",
    "gsExtC.fit(X_train, y_train)\n",
    "    \n",
    "ExtC_best = gsExtC.best_estimator_\n",
    "\n",
    "#Best score\n",
    "gsExtC.best_score_"
   ]
  },
  {
   "cell_type": "code",
   "execution_count": 14,
   "metadata": {},
   "outputs": [
    {
     "name": "stdout",
     "output_type": "stream",
     "text": [
      "Fitting 10 folds for each of 160 candidates, totalling 1600 fits\n"
     ]
    },
    {
     "name": "stderr",
     "output_type": "stream",
     "text": [
      "[Parallel(n_jobs=1)]: Using backend SequentialBackend with 1 concurrent workers.\n",
      "[Parallel(n_jobs=1)]: Done 1600 out of 1600 | elapsed:  5.0min finished\n"
     ]
    },
    {
     "data": {
      "text/plain": [
       "0.8406866416978775"
      ]
     },
     "execution_count": 14,
     "metadata": {},
     "output_type": "execute_result"
    }
   ],
   "source": [
    "#GRADIENT BOOSTING\n",
    "\n",
    "GBC = GradientBoostingClassifier()\n",
    "\n",
    "#Search grid for optimal parameters\n",
    "rf_param_grid = {\"loss\": [\"deviance\"],\n",
    "                 \"n_estimators\": [100,200, 300, 500, 1000],\n",
    "                 \"learning_rate\": [0.1, 0.05, 0.01, 1],\n",
    "                \"max_depth\": [4, 8], \n",
    "                \"min_samples_leaf\": [100, 150],\n",
    "                 \"max_features\": [0.3, 0.1],\n",
    "                }\n",
    "\n",
    "gsGBC = GridSearchCV(GBC, param_grid = rf_param_grid, cv = kfold, scoring = \"accuracy\",\n",
    "                    n_jobs = 1, verbose = 1)\n",
    "\n",
    "gsGBC.fit(X_train, y_train)\n",
    "    \n",
    "GBC_best = gsGBC.best_estimator_\n",
    "\n",
    "#Best score\n",
    "gsGBC.best_score_\n"
   ]
  },
  {
   "cell_type": "code",
   "execution_count": 15,
   "metadata": {},
   "outputs": [
    {
     "data": {
      "text/plain": [
       "0.7979650436953808"
      ]
     },
     "execution_count": 15,
     "metadata": {},
     "output_type": "execute_result"
    }
   ],
   "source": [
    "#LINEAR DISCRIMINANT ANALYSIS\n",
    "LDA = LinearDiscriminantAnalysis()\n",
    "\n",
    "grid = dict()\n",
    "grid['solver'] = ['svd', 'lsqr', 'eigen']\n",
    "\n",
    "gsLDA = GridSearchCV(LDA, grid, scoring='accuracy', cv= kfold, n_jobs=-1)\n",
    "\n",
    "gsLDA.fit(X_train, y_train)\n",
    "\n",
    "LDA_best = gsLDA.best_estimator_\n",
    "\n",
    "#Best score\n",
    "gsLDA.best_score_\n"
   ]
  },
  {
   "cell_type": "code",
   "execution_count": null,
   "metadata": {},
   "outputs": [],
   "source": [
    "#ADABOOST metamodel with Decision Trees\n",
    "\n",
    "# DTC = DecisionTreeClassifier()\n",
    "\n",
    "# adaDTC = AdaBoostClassifier(DTC, random_state= 7)\n",
    "\n",
    "# ada_param_grid = {\"base_estimator__criterion\": [\"gini\", \"entropy\"],\n",
    "#                  \"base_estimator__splitter\":[\"best\", \"random\"],\n",
    "#                      \"algorithm\":[\"SAMME\", \"SAMME.R\"],\n",
    "#                      \"n_estimators\": [1,2,50, 100, 500],\n",
    "#                  \"learning_rate\": [0.0001, 0.001, 0.01, 0.1,0.5,  1.0, 1.5]}\n",
    "\n",
    "# gsadaDTC = GridSearchCV(adaDTC, param_grid = ada_param_grid, cv = kfold, scoring = \"accuracy\",\n",
    "#                     n_jobs = 1, verbose = 1)\n",
    "\n",
    "# gsadaDTC.fit(X_train, y_train)\n",
    "\n",
    "# ada_best = gsadaDTC.best_estimator_\n",
    "\n",
    "# gsadaDTC.best_score_"
   ]
  },
  {
   "cell_type": "code",
   "execution_count": 16,
   "metadata": {},
   "outputs": [
    {
     "data": {
      "image/png": "[encoded data removed]",
      "text/plain": [
       "<Figure size 432x288 with 1 Axes>"
      ]
     },
     "metadata": {},
     "output_type": "display_data"
    },
    {
     "data": {
      "image/png": "[encoded data removed]",
      "text/plain": [
       "<Figure size 432x288 with 1 Axes>"
      ]
     },
     "metadata": {},
     "output_type": "display_data"
    },
    {
     "data": {
      "image/png": "[encoded data removed]",
      "text/plain": [
       "<Figure size 432x288 with 1 Axes>"
      ]
     },
     "metadata": {},
     "output_type": "display_data"
    },
    {
     "data": {
      "image/png": "[encoded data removed]",
      "text/plain": [
       "<Figure size 432x288 with 1 Axes>"
      ]
     },
     "metadata": {},
     "output_type": "display_data"
    }
   ],
   "source": [
    "##LEARNING CURVES FOR ANALYSIS OF THE ALGORITHMS\n",
    "def plot_learning_curve(estimator, title, X, y, ylim=None, cv=None,\n",
    "                        n_jobs=-1, train_sizes=np.linspace(.1, 1.0, 5)):\n",
    "    \"\"\"Generate a simple plot of the test and training learning curve\"\"\"\n",
    "    plt.figure()\n",
    "    plt.title(title)\n",
    "    if ylim is not None:\n",
    "        plt.ylim(*ylim)\n",
    "    plt.xlabel(\"Training examples\")\n",
    "    plt.ylabel(\"Score\")\n",
    "    train_sizes, train_scores, test_scores = learning_curve(\n",
    "        estimator, X, y, cv=cv, n_jobs=n_jobs, train_sizes=train_sizes)\n",
    "    train_scores_mean = np.mean(train_scores, axis=1)\n",
    "    train_scores_std = np.std(train_scores, axis=1)\n",
    "    test_scores_mean = np.mean(test_scores, axis=1)\n",
    "    test_scores_std = np.std(test_scores, axis=1)\n",
    "    plt.grid()\n",
    "\n",
    "    plt.fill_between(train_sizes, train_scores_mean - train_scores_std,\n",
    "                     train_scores_mean + train_scores_std, alpha=0.1,\n",
    "                     color=\"r\")\n",
    "    plt.fill_between(train_sizes, test_scores_mean - test_scores_std,\n",
    "                     test_scores_mean + test_scores_std, alpha=0.1, color=\"g\")\n",
    "    plt.plot(train_sizes, train_scores_mean, 'o-', color=\"r\",\n",
    "             label=\"Training score\")\n",
    "    plt.plot(train_sizes, test_scores_mean, 'o-', color=\"g\",\n",
    "             label=\"Cross-validation score\")\n",
    "\n",
    "    plt.legend(loc=\"best\")\n",
    "    return plt\n",
    "\n",
    "g = plot_learning_curve(gsRFC.best_estimator_,\"RF learning curves\",X_train,y_train,cv=kfold)\n",
    "g = plot_learning_curve(gsGBC.best_estimator_,\"GradientBoosting learning curves\",X_train,y_train,cv=kfold)\n",
    "g = plot_learning_curve(gsExtC.best_estimator_,\"ExtraTrees learning curves\",X_train,y_train,cv=kfold)\n",
    "g = plot_learning_curve(gsLDA.best_estimator_,\"LDA learning curves\",X_train,y_train,cv=kfold)\n",
    "# g = plot_learning_curve(gsadaDTC.best_estimator_,\"AdaBoost learning curves\",X_train,y_train,cv=kfold)\n"
   ]
  },
  {
   "cell_type": "code",
   "execution_count": null,
   "metadata": {},
   "outputs": [],
   "source": [
    "##FEATURE IMPORTANCE\n",
    "nrows = ncols = 2\n",
    "fig, axes = plt.subplots(nrows = nrows, ncols = ncols, sharex=\"all\", figsize=(15,15))\n",
    "\n",
    "# names_classifiers = [(\"GradientBoosting\",GBC_best),(\"AdaBoosting\", ada_best),(\"ExtraTrees\",ExtC_best),(\"RandomForest\",RFC_best), \n",
    "#                     (\"LinearDiscriminantAnalysys\",LDA_best)]\n",
    "\n",
    "names_classifiers = [(\"GradientBoosting\",GBC_best),(\"ExtraTrees\",ExtC_best),(\"RandomForest\",RFC_best), \n",
    "                    (\"LinearDiscriminantAnalysys\",LDA_best)]\n",
    "\n",
    "nclassifier = 0\n",
    "for row in range(nrows):\n",
    "    for col in range(ncols):\n",
    "        name = names_classifiers[nclassifier][0]\n",
    "        classifier = names_classifiers[nclassifier][1]\n",
    "        indices = np.argsort(classifier.feature_importances_)[::-1][:40]\n",
    "        g = sns.barplot(y=X_train.columns[indices][:40],x = classifier.feature_importances_[indices][:40] , orient='h',ax=axes[row][col])\n",
    "        g.set_xlabel(\"Relative importance\",fontsize=12)\n",
    "        g.set_ylabel(\"Features\",fontsize=12)\n",
    "        g.tick_params(labelsize=9)\n",
    "        g.set_title(name + \" feature importance\")\n",
    "        nclassifier += 1"
   ]
  },
  {
   "cell_type": "code",
   "execution_count": null,
   "metadata": {},
   "outputs": [],
   "source": [
    "###EVALUATION ON THE VALIDATION SET..."
   ]
  },
  {
   "cell_type": "code",
   "execution_count": null,
   "metadata": {},
   "outputs": [],
   "source": [
    "mods = {\"gsRFC\": gsRFC, \"gsGBC\":gsGBC, \"gsExtC\":gsExtC, \"gsLDA\":gsLDA}\n",
    "def val_scores(mods, X_val, y_val):\n",
    "    scores =pd.DataFrame(columns = [\"Model\", \"Accuracy\", \"F1_Score\"])\n",
    "    for model in mods:\n",
    "        scores = scores.append({\"Model\":model, \"Accuracy\":accuracy_score(mods[model].predict(X_val), y_val),\n",
    "                               \"F1_Score\":metrics.f1_score(mods[model].predict(X_val), y_val)},\n",
    "                               ignore_index=True )\n",
    "    return scores"
   ]
  },
  {
   "cell_type": "code",
   "execution_count": null,
   "metadata": {},
   "outputs": [],
   "source": [
    "val_scores(mods, X_val, y_val).sort_values(by = \"Accuracy\", ascending = False)"
   ]
  },
  {
   "cell_type": "code",
   "execution_count": null,
   "metadata": {},
   "outputs": [],
   "source": [
    "train_mae = train.copy()\n",
    "%store mods\n",
    "%store train_mae\n",
    "%store y\n",
    "\n",
    "\n"
   ]
  },
  {
   "cell_type": "code",
   "execution_count": null,
   "metadata": {},
   "outputs": [],
   "source": [
    "k2 = test_scores(mods, X_test, y_test).sort_values(by = \"Accuracy\", ascending = False).copy()\n",
    "k2.to_csv(\"k2.csv\", index = False)"
   ]
  },
  {
   "cell_type": "code",
   "execution_count": 19,
   "metadata": {},
   "outputs": [
    {
     "data": {
      "text/plain": [
       "RandomForestClassifier(bootstrap=False, max_features=3, min_samples_leaf=3,\n",
       "                       min_samples_split=3)"
      ]
     },
     "execution_count": 19,
     "metadata": {},
     "output_type": "execute_result"
    }
   ],
   "source": [
    "RFC_best"
   ]
  },
  {
   "cell_type": "code",
   "execution_count": 31,
   "metadata": {},
   "outputs": [
    {
     "data": {
      "text/plain": [
       "GradientBoostingClassifier(learning_rate=1, max_depth=4, max_features=0.1,\n",
       "                           min_samples_leaf=150, n_estimators=1000)"
      ]
     },
     "execution_count": 31,
     "metadata": {},
     "output_type": "execute_result"
    }
   ],
   "source": [
    "GBC_best"
   ]
  },
  {
   "cell_type": "code",
   "execution_count": 32,
   "metadata": {},
   "outputs": [
    {
     "data": {
      "text/plain": [
       "ExtraTreesClassifier(max_features=1, min_samples_split=10, n_estimators=300)"
      ]
     },
     "execution_count": 32,
     "metadata": {},
     "output_type": "execute_result"
    }
   ],
   "source": [
    "ExtC_best"
   ]
  },
  {
   "cell_type": "code",
   "execution_count": 28,
   "metadata": {},
   "outputs": [],
   "source": [
    "from sklearn import ensemble\n",
    "\n",
    "from sklearn.ensemble import RandomForestClassifier, AdaBoostClassifier, GradientBoostingClassifier, ExtraTreesClassifier\n"
   ]
  },
  {
   "cell_type": "code",
   "execution_count": 34,
   "metadata": {},
   "outputs": [],
   "source": [
    "##Models to use\n",
    "\n",
    "RF = ensemble.RandomForestClassifier(bootstrap=False, max_features=3, min_samples_leaf=3,\n",
    "                       min_samples_split=3)\n",
    "GBC = ensemble.GradientBoostingClassifier(learning_rate=1, max_depth=4, max_features=0.1,\n",
    "                           min_samples_leaf=150, n_estimators=1000)\n",
    "ExtC = ensemble.ExtraTreesClassifier(max_features=1, min_samples_split=10, n_estimators=300)"
   ]
  },
  {
   "cell_type": "code",
   "execution_count": 35,
   "metadata": {},
   "outputs": [],
   "source": [
    "###SUBMITION MODULE TO KAGGLE USING THE TEST SET\n",
    "\n",
    "#Prepare test set\n",
    "out = test.pop(\"Survived\")\n",
    "test = test\n"
   ]
  },
  {
   "cell_type": "code",
   "execution_count": 57,
   "metadata": {},
   "outputs": [],
   "source": [
    "#Make a predicti0on with the selected model and feature set\n",
    "# y_pred = (0.32744636 * gsRFC.predict(test) + 0.21414157 * gsGBC.predict(test) + 0.45841208 * gsExtC.predict(test))\n",
    "RF.fit(X_train, y_train)\n",
    "GBC.fit(X_train, y_train)\n",
    "ExtC.fit(X_train, y_train)\n",
    "\n",
    "y_pred = (0.19862685* GBC.predict(test) + 0.26977291*RF.predict(test) + 0.53160024* ExtC.predict(test))\n",
    "\n"
   ]
  },
  {
   "cell_type": "code",
   "execution_count": 58,
   "metadata": {},
   "outputs": [
    {
     "data": {
      "text/html": [
       "<div>\n",
       "<style scoped>\n",
       "    .dataframe tbody tr th:only-of-type {\n",
       "        vertical-align: middle;\n",
       "    }\n",
       "\n",
       "    .dataframe tbody tr th {\n",
       "        vertical-align: top;\n",
       "    }\n",
       "\n",
       "    .dataframe thead th {\n",
       "        text-align: right;\n",
       "    }\n",
       "</style>\n",
       "<table border=\"1\" class=\"dataframe\">\n",
       "  <thead>\n",
       "    <tr style=\"text-align: right;\">\n",
       "      <th></th>\n",
       "      <th>PassengerId</th>\n",
       "      <th>Survived</th>\n",
       "    </tr>\n",
       "  </thead>\n",
       "  <tbody>\n",
       "    <tr>\n",
       "      <th>0</th>\n",
       "      <td>892</td>\n",
       "      <td>0</td>\n",
       "    </tr>\n",
       "    <tr>\n",
       "      <th>1</th>\n",
       "      <td>893</td>\n",
       "      <td>0</td>\n",
       "    </tr>\n",
       "    <tr>\n",
       "      <th>2</th>\n",
       "      <td>894</td>\n",
       "      <td>0</td>\n",
       "    </tr>\n",
       "    <tr>\n",
       "      <th>3</th>\n",
       "      <td>895</td>\n",
       "      <td>0</td>\n",
       "    </tr>\n",
       "    <tr>\n",
       "      <th>4</th>\n",
       "      <td>896</td>\n",
       "      <td>1</td>\n",
       "    </tr>\n",
       "    <tr>\n",
       "      <th>5</th>\n",
       "      <td>897</td>\n",
       "      <td>0</td>\n",
       "    </tr>\n",
       "    <tr>\n",
       "      <th>6</th>\n",
       "      <td>898</td>\n",
       "      <td>0</td>\n",
       "    </tr>\n",
       "    <tr>\n",
       "      <th>7</th>\n",
       "      <td>899</td>\n",
       "      <td>0</td>\n",
       "    </tr>\n",
       "    <tr>\n",
       "      <th>8</th>\n",
       "      <td>900</td>\n",
       "      <td>1</td>\n",
       "    </tr>\n",
       "    <tr>\n",
       "      <th>9</th>\n",
       "      <td>901</td>\n",
       "      <td>0</td>\n",
       "    </tr>\n",
       "    <tr>\n",
       "      <th>10</th>\n",
       "      <td>902</td>\n",
       "      <td>0</td>\n",
       "    </tr>\n",
       "    <tr>\n",
       "      <th>11</th>\n",
       "      <td>903</td>\n",
       "      <td>0</td>\n",
       "    </tr>\n",
       "    <tr>\n",
       "      <th>12</th>\n",
       "      <td>904</td>\n",
       "      <td>1</td>\n",
       "    </tr>\n",
       "    <tr>\n",
       "      <th>13</th>\n",
       "      <td>905</td>\n",
       "      <td>0</td>\n",
       "    </tr>\n",
       "    <tr>\n",
       "      <th>14</th>\n",
       "      <td>906</td>\n",
       "      <td>1</td>\n",
       "    </tr>\n",
       "    <tr>\n",
       "      <th>15</th>\n",
       "      <td>907</td>\n",
       "      <td>1</td>\n",
       "    </tr>\n",
       "    <tr>\n",
       "      <th>16</th>\n",
       "      <td>908</td>\n",
       "      <td>0</td>\n",
       "    </tr>\n",
       "    <tr>\n",
       "      <th>17</th>\n",
       "      <td>909</td>\n",
       "      <td>0</td>\n",
       "    </tr>\n",
       "    <tr>\n",
       "      <th>18</th>\n",
       "      <td>910</td>\n",
       "      <td>0</td>\n",
       "    </tr>\n",
       "    <tr>\n",
       "      <th>19</th>\n",
       "      <td>911</td>\n",
       "      <td>1</td>\n",
       "    </tr>\n",
       "  </tbody>\n",
       "</table>\n",
       "</div>"
      ],
      "text/plain": [
       "    PassengerId  Survived\n",
       "0   892          0       \n",
       "1   893          0       \n",
       "2   894          0       \n",
       "3   895          0       \n",
       "4   896          1       \n",
       "5   897          0       \n",
       "6   898          0       \n",
       "7   899          0       \n",
       "8   900          1       \n",
       "9   901          0       \n",
       "10  902          0       \n",
       "11  903          0       \n",
       "12  904          1       \n",
       "13  905          0       \n",
       "14  906          1       \n",
       "15  907          1       \n",
       "16  908          0       \n",
       "17  909          0       \n",
       "18  910          0       \n",
       "19  911          1       "
      ]
     },
     "execution_count": 58,
     "metadata": {},
     "output_type": "execute_result"
    }
   ],
   "source": [
    "\n",
    "###CREATE THE SUBMISSION FILE\n",
    "# Prepare Submission File\n",
    "\n",
    "%store -r test_ID\n",
    "\n",
    "submit3 = pd.DataFrame()\n",
    "submit3['PassengerId'] = test_ID\n",
    "submit3['Survived'] = y_pred\n",
    "submit3['Survived'] = submit3['Survived'].apply(lambda x:1 if x >=0.5 else 0)\n",
    "# submit = submit.set_index(\"PassengerId\")\n",
    "# ----------------------------- Create File to Submit --------------------------------\n",
    "submit3.to_csv('34_sub.csv', index = False)\n",
    "submit3.head(20)\n"
   ]
  },
  {
   "cell_type": "markdown",
   "metadata": {},
   "source": [
    "# Summary of today´s operations\n",
    "**Operations**\n",
    "0) Split train set into train and validation sets\n",
    "1) Run the models and pick the one with the lowest validation error \\\n",
    "2) I use the test set (X_val, y_val )as the evaluation of the \n",
    "(model, features set) chosen each time I make an adjustment\\\n",
    "3) Afterwards, check the feature importance and select the most relevant  features, update the dataset with them and go to (1) \n",
    "and validate in validation set \\\n",
    "4) Now I will wait and try some submissions to Kagle to evaluate using the Test Set\n",
    "\n",
    "\n",
    "Unitl now, the best performing algotihm/features tuple is: \\\n",
    "Model: gsExtC \\\n",
    "Features: (['Pclass', 'Sex', 'Age', 'SibSp', 'Fare', 'Deck', 'Title'] \\\n",
    "Accuracy: 0.8101, F1: 0.7344\\\n",
    "\n",
    "Also: GB with Accuracy: 0.8045, F1: 0.7368\n",
    "\n"
   ]
  },
  {
   "cell_type": "markdown",
   "metadata": {},
   "source": [
    "# Texto acá\n",
    "**Título en negrita\n",
    "texto\\\n",
    "para hacerlo primero se va a Markdown arriba y se elige header (con eso se genera un gran título)\n"
   ]
  },
  {
   "cell_type": "code",
   "execution_count": null,
   "metadata": {},
   "outputs": [],
   "source": [
    "GBC_best"
   ]
  },
  {
   "cell_type": "code",
   "execution_count": null,
   "metadata": {},
   "outputs": [],
   "source": [
    "rf_best"
   ]
  },
  {
   "cell_type": "code",
   "execution_count": null,
   "metadata": {},
   "outputs": [],
   "source": [
    "RFC_best "
   ]
  },
  {
   "cell_type": "code",
   "execution_count": null,
   "metadata": {},
   "outputs": [],
   "source": [
    "ExtC_best "
   ]
  },
  {
   "cell_type": "code",
   "execution_count": 40,
   "metadata": {},
   "outputs": [
    {
     "data": {
      "text/plain": [
       "(array([0. , 0.5, 0. , 0. , 0.5, 0. , 0. , 0. , 0.5, 0. , 0. , 0. , 0.5,\n",
       "        0. , 0.5, 0.5, 0. , 0. , 0. , 0.5, 0. , 0.5, 0.5, 0. , 0.5, 0. ,\n",
       "        0.5, 0. , 0. , 0. , 0. , 0. , 0.5, 0. , 0. , 0. , 0. , 0. , 0. ,\n",
       "        0. , 0.5, 0.5, 0. , 0.5, 0.5, 0. , 0. , 0. , 0.5, 0.5, 0. , 0. ,\n",
       "        0.5, 0.5, 0. , 0. , 0. , 0. , 0. , 0.5, 0. , 0.5, 0. , 0.5, 0.5,\n",
       "        0.5, 0.5, 0. , 0. , 0.5, 0.5, 0. , 0.5, 0. , 0.5, 0.5, 0. , 0.5,\n",
       "        0. , 0.5, 0.5, 0. , 0. , 0. , 0. , 0. , 0.5, 0. , 0. , 0.5, 0.5,\n",
       "        0. , 0.5, 0. , 0. , 0. , 0.5, 0. , 0.5, 0. , 0.5, 0. , 0. , 0. ,\n",
       "        0.5, 0. , 0. , 0. , 0. , 0.5, 0. , 0.5, 0.5, 0.5, 0.5, 0. , 0. ,\n",
       "        0.5, 0. , 0.5, 0.5, 0. , 0.5, 0. , 0. , 0.5, 0. , 0.5, 0. , 0. ,\n",
       "        0. , 0. , 0. , 0. , 0. , 0. , 0. , 0. , 0. , 0. , 0. , 0.5, 0. ,\n",
       "        0. , 0. , 0. , 0. , 0. , 0. , 0. , 0.5, 0. , 0. , 0.5, 0. , 0. ,\n",
       "        0.5, 0.5, 0. , 0.5, 0. , 0.5, 0.5, 0. , 0. , 0. , 0. , 0. , 0.5,\n",
       "        0. , 0. , 0. , 0. , 0. , 0. , 0.5, 0.5, 0. , 0.5, 0.5, 0. , 0. ,\n",
       "        0.5, 0. , 0.5, 0. , 0.5, 0. , 0. , 0. , 0. , 0. , 0.5, 0. , 0.5,\n",
       "        0. , 0.5, 0.5, 0. , 0.5, 0.5, 0.5, 0.5, 0.5, 0. , 0. , 0.5, 0. ,\n",
       "        0.5, 0. , 0.5, 0. , 0. , 0.5, 0.5, 0. , 0. , 0. , 0.5, 0. , 0.5,\n",
       "        0. , 0.5, 0. , 0.5, 0.5, 0. , 0. , 0. , 0. , 0. , 0.5, 0. , 0. ,\n",
       "        0. , 0. , 0. , 0. , 0.5, 0.5, 0.5, 0.5, 0. , 0. , 0. , 0. , 0.5,\n",
       "        0. , 0.5, 0.5, 0.5, 0. , 0. , 0. , 0. , 0. , 0. , 0. , 0.5, 0. ,\n",
       "        0. , 0. , 0.5, 0.5, 0. , 0. , 0. , 0. , 0. , 0. , 0. , 0. , 0.5,\n",
       "        0.5, 0. , 0.5, 0. , 0. , 0. , 0. , 0. , 0.5, 0.5, 0.5, 0.5, 0. ,\n",
       "        0. , 0. , 0. , 0. , 0. , 0. , 0. , 0.5, 0. , 0. , 0.5, 0. , 0. ,\n",
       "        0. , 0. , 0. , 0. , 0. , 0.5, 0.5, 0. , 0.5, 0. , 0. , 0. , 0. ,\n",
       "        0. , 0. , 0.5, 0.5, 0. , 0. , 0. , 0. , 0. , 0. , 0. , 0. , 0.5,\n",
       "        0. , 0.5, 0. , 0. , 0. , 0.5, 0. , 0. , 0.5, 0. , 0. , 0.5, 0. ,\n",
       "        0. , 0. , 0. , 0. , 0. , 0.5, 0. , 0.5, 0. , 0.5, 0. , 0.5, 0.5,\n",
       "        0. , 0. , 0. , 0.5, 0.5, 0.5, 0. , 0. , 0. , 0. , 0.5, 0.5, 0. ,\n",
       "        0.5, 0. , 0. , 0. , 0.5, 0. , 0. , 0.5, 0. , 0. , 0.5, 0.5, 0. ,\n",
       "        0. , 0. , 0. , 0. , 0. , 0. , 0.5, 0. , 0.5, 0. , 0. , 0. , 0. ,\n",
       "        0. , 0.5, 0.5, 0. , 0. , 0.5, 0. , 0.5, 0. , 0. , 0.5, 0. , 0.5,\n",
       "        0. , 0. , 0.5, 0. , 0. , 0.5, 0.5, 0. , 0.5, 0.5, 0. , 0.5, 0. ,\n",
       "        0. , 0. ]),\n",
       " array([0. , 0. , 0. , 0. , 0.5, 0. , 0.3, 0. , 0.5, 0. , 0. , 0.3, 0.5,\n",
       "        0. , 0.5, 0.5, 0. , 0. , 0. , 0.5, 0. , 0.5, 0.5, 0. , 0.5, 0. ,\n",
       "        0.5, 0. , 0.3, 0. , 0. , 0. , 0.5, 0. , 0. , 0. , 0. , 0. , 0. ,\n",
       "        0. , 0. , 0. , 0. , 0.5, 0.5, 0. , 0. , 0. , 0.5, 0.5, 0. , 0. ,\n",
       "        0.5, 0.5, 0. , 0. , 0. , 0. , 0. , 0.5, 0. , 0. , 0. , 0.5, 0.5,\n",
       "        0.5, 0.5, 0. , 0. , 0.5, 0.5, 0. , 0.3, 0.5, 0.5, 0. , 0. , 0.5,\n",
       "        0. , 0.5, 0.5, 0. , 0.3, 0. , 0. , 0. , 0.5, 0. , 0.5, 0.5, 0.5,\n",
       "        0. , 0.5, 0. , 0.3, 0. , 0.5, 0. , 0.3, 0. , 0.5, 0. , 0. , 0. ,\n",
       "        0.5, 0. , 0. , 0. , 0. , 0. , 0. , 0.5, 0.5, 0.5, 0.5, 0. , 0. ,\n",
       "        0.5, 0. , 0.5, 0.5, 0. , 0.5, 0. , 0. , 0.3, 0. , 0.5, 0. , 0. ,\n",
       "        0. , 0.5, 0. , 0. , 0. , 0. , 0. , 0. , 0. , 0. , 0. , 0.5, 0. ,\n",
       "        0. , 0.3, 0. , 0.3, 0. , 0.3, 0. , 0.5, 0. , 0. , 0.5, 0. , 0. ,\n",
       "        0.5, 0.5, 0.3, 0.5, 0.3, 0.5, 0.5, 0. , 0. , 0. , 0. , 0. , 0.5,\n",
       "        0. , 0. , 0. , 0. , 0. , 0. , 0.5, 0.5, 0. , 0.5, 0.5, 0. , 0.3,\n",
       "        0.5, 0. , 0.5, 0. , 0.5, 0. , 0. , 0. , 0. , 0. , 0.5, 0. , 0.5,\n",
       "        0. , 0.5, 0.5, 0. , 0.5, 0.3, 0.5, 0.2, 0.5, 0. , 0. , 0.5, 0. ,\n",
       "        0.5, 0. , 0. , 0. , 0. , 0.5, 0.5, 0. , 0.3, 0. , 0.5, 0. , 0.5,\n",
       "        0. , 0.5, 0. , 0.5, 0.5, 0. , 0.5, 0. , 0. , 0. , 0.5, 0. , 0. ,\n",
       "        0. , 0. , 0. , 0. , 0.5, 0.5, 0.5, 0.5, 0. , 0. , 0.5, 0.5, 0.5,\n",
       "        0. , 0.5, 0.2, 0.5, 0. , 0. , 0. , 0. , 0. , 0. , 0. , 0.5, 0. ,\n",
       "        0. , 0. , 0.5, 0.5, 0. , 0. , 0. , 0. , 0. , 0. , 0. , 0. , 0.5,\n",
       "        0.5, 0. , 0.5, 0. , 0. , 0. , 0. , 0. , 0.5, 0.3, 0. , 0.5, 0. ,\n",
       "        0. , 0.2, 0. , 0. , 0. , 0.3, 0. , 0.5, 0. , 0. , 0.5, 0. , 0. ,\n",
       "        0. , 0. , 0. , 0. , 0. , 0.5, 0.5, 0. , 0.5, 0.2, 0. , 0. , 0. ,\n",
       "        0. , 0.5, 0.5, 0.5, 0.2, 0. , 0. , 0. , 0. , 0. , 0. , 0.3, 0.5,\n",
       "        0. , 0.5, 0. , 0. , 0. , 0.5, 0. , 0. , 0.5, 0. , 0. , 0. , 0. ,\n",
       "        0. , 0.5, 0. , 0. , 0. , 0.5, 0.5, 0.5, 0. , 0.5, 0. , 0.5, 0.5,\n",
       "        0. , 0. , 0. , 0.5, 0.5, 0.5, 0. , 0. , 0. , 0. , 0.5, 0.5, 0. ,\n",
       "        0.5, 0. , 0. , 0. , 0.5, 0. , 0. , 0.5, 0. , 0. , 0.5, 0.5, 0. ,\n",
       "        0. , 0. , 0. , 0. , 0. , 0.5, 0.5, 0. , 0.5, 0. , 0. , 0. , 0. ,\n",
       "        0. , 0.5, 0.5, 0. , 0. , 0.5, 0. , 0.5, 0. , 0. , 0.5, 0. , 0.5,\n",
       "        0. , 0.5, 0.3, 0. , 0. , 0.5, 0.5, 0.5, 0.5, 0.3, 0. , 0.5, 0. ,\n",
       "        0. , 0.5]))"
      ]
     },
     "execution_count": 40,
     "metadata": {},
     "output_type": "execute_result"
    }
   ],
   "source": [
    "y_pred"
   ]
  },
  {
   "cell_type": "code",
   "execution_count": 43,
   "metadata": {},
   "outputs": [
    {
     "data": {
      "text/plain": [
       "array([0. , 0.5, 0. , 0. , 0.5, 0. , 0. , 0. , 0.5, 0. , 0. , 0. , 0.5,\n",
       "       0. , 0.5, 0.5, 0. , 0. , 0. , 0.5, 0. , 0.5, 0.5, 0. , 0.5, 0. ,\n",
       "       0.5, 0. , 0. , 0. , 0. , 0. , 0.5, 0. , 0. , 0. , 0. , 0. , 0. ,\n",
       "       0. , 0.5, 0.5, 0. , 0.5, 0.5, 0. , 0. , 0. , 0.5, 0.5, 0. , 0. ,\n",
       "       0.5, 0.5, 0. , 0. , 0. , 0. , 0. , 0.5, 0. , 0.5, 0. , 0.5, 0.5,\n",
       "       0.5, 0.5, 0. , 0. , 0.5, 0.5, 0. , 0.5, 0. , 0.5, 0.5, 0. , 0.5,\n",
       "       0. , 0.5, 0.5, 0. , 0. , 0. , 0. , 0. , 0.5, 0. , 0. , 0.5, 0.5,\n",
       "       0. , 0.5, 0. , 0. , 0. , 0.5, 0. , 0.5, 0. , 0.5, 0. , 0. , 0. ,\n",
       "       0.5, 0. , 0. , 0. , 0. , 0.5, 0. , 0.5, 0.5, 0.5, 0.5, 0. , 0. ,\n",
       "       0.5, 0. , 0.5, 0.5, 0. , 0.5, 0. , 0. , 0.5, 0. , 0.5, 0. , 0. ,\n",
       "       0. , 0. , 0. , 0. , 0. , 0. , 0. , 0. , 0. , 0. , 0. , 0.5, 0. ,\n",
       "       0. , 0. , 0. , 0. , 0. , 0. , 0. , 0.5, 0. , 0. , 0.5, 0. , 0. ,\n",
       "       0.5, 0.5, 0. , 0.5, 0. , 0.5, 0.5, 0. , 0. , 0. , 0. , 0. , 0.5,\n",
       "       0. , 0. , 0. , 0. , 0. , 0. , 0.5, 0.5, 0. , 0.5, 0.5, 0. , 0. ,\n",
       "       0.5, 0. , 0.5, 0. , 0.5, 0. , 0. , 0. , 0. , 0. , 0.5, 0. , 0.5,\n",
       "       0. , 0.5, 0.5, 0. , 0.5, 0.5, 0.5, 0.5, 0.5, 0. , 0. , 0.5, 0. ,\n",
       "       0.5, 0. , 0.5, 0. , 0. , 0.5, 0.5, 0. , 0. , 0. , 0.5, 0. , 0.5,\n",
       "       0. , 0.5, 0. , 0.5, 0.5, 0. , 0. , 0. , 0. , 0. , 0.5, 0. , 0. ,\n",
       "       0. , 0. , 0. , 0. , 0.5, 0.5, 0.5, 0.5, 0. , 0. , 0. , 0. , 0.5,\n",
       "       0. , 0.5, 0.5, 0.5, 0. , 0. , 0. , 0. , 0. , 0. , 0. , 0.5, 0. ,\n",
       "       0. , 0. , 0.5, 0.5, 0. , 0. , 0. , 0. , 0. , 0. , 0. , 0. , 0.5,\n",
       "       0.5, 0. , 0.5, 0. , 0. , 0. , 0. , 0. , 0.5, 0.5, 0.5, 0.5, 0. ,\n",
       "       0. , 0. , 0. , 0. , 0. , 0. , 0. , 0.5, 0. , 0. , 0.5, 0. , 0. ,\n",
       "       0. , 0. , 0. , 0. , 0. , 0.5, 0.5, 0. , 0.5, 0. , 0. , 0. , 0. ,\n",
       "       0. , 0. , 0.5, 0.5, 0. , 0. , 0. , 0. , 0. , 0. , 0. , 0. , 0.5,\n",
       "       0. , 0.5, 0. , 0. , 0. , 0.5, 0. , 0. , 0.5, 0. , 0. , 0.5, 0. ,\n",
       "       0. , 0. , 0. , 0. , 0. , 0.5, 0. , 0.5, 0. , 0.5, 0. , 0.5, 0.5,\n",
       "       0. , 0. , 0. , 0.5, 0.5, 0.5, 0. , 0. , 0. , 0. , 0.5, 0.5, 0. ,\n",
       "       0.5, 0. , 0. , 0. , 0.5, 0. , 0. , 0.5, 0. , 0. , 0.5, 0.5, 0. ,\n",
       "       0. , 0. , 0. , 0. , 0. , 0. , 0.5, 0. , 0.5, 0. , 0. , 0. , 0. ,\n",
       "       0. , 0.5, 0.5, 0. , 0. , 0.5, 0. , 0.5, 0. , 0. , 0.5, 0. , 0.5,\n",
       "       0. , 0. , 0.5, 0. , 0. , 0.5, 0.5, 0. , 0.5, 0.5, 0. , 0.5, 0. ,\n",
       "       0. , 0. ])"
      ]
     },
     "execution_count": 43,
     "metadata": {},
     "output_type": "execute_result"
    }
   ],
   "source": [
    "0.5 * GBC.predict(test)"
   ]
  },
  {
   "cell_type": "code",
   "execution_count": null,
   "metadata": {},
   "outputs": [],
   "source": []
  }
 ],
 "metadata": {
  "kernelspec": {
   "display_name": "Python 3",
   "language": "python",
   "name": "python3"
  },
  "language_info": {
   "codemirror_mode": {
    "name": "ipython",
    "version": 3
   },
   "file_extension": ".py",
   "mimetype": "text/x-python",
   "name": "python",
   "nbconvert_exporter": "python",
   "pygments_lexer": "ipython3",
   "version": "3.7.7"
  }
 },
 "nbformat": 4,
 "nbformat_minor": 4
}
